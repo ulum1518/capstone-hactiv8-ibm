{
  "nbformat": 4,
  "nbformat_minor": 0,
  "metadata": {
    "colab": {
      "provenance": []
    },
    "kernelspec": {
      "name": "python3",
      "display_name": "Python 3"
    },
    "language_info": {
      "name": "python"
    }
  },
  "cells": [
    {
      "cell_type": "code",
      "execution_count": null,
      "metadata": {
        "id": "4zvVXUPXyv18"
      },
      "outputs": [],
      "source": [
        "!pip install langchain_community\n",
        "!pip install replicate\n",
        "!pip install requests\n",
        "!pip install beautifulsoup4"
      ]
    },
    {
      "cell_type": "code",
      "source": [
        "from langchain_community.llms import Replicate\n",
        "import os\n",
        "from google.colab import userdata\n",
        "\n",
        "# Set the API token\n",
        "api_token = userdata.get('REPLICATE_KEY')\n",
        "os.environ[\"REPLICATE_API_TOKEN\"] = api_token"
      ],
      "metadata": {
        "id": "3ywdrikPioCG"
      },
      "execution_count": 2,
      "outputs": []
    },
    {
      "cell_type": "code",
      "source": [
        "parameters = {\n",
        "  \"top_k\": 5,\n",
        "  \"top_p\": 1.0,\n",
        "  \"max_tokens\": 4096,\n",
        "  \"min_tokens\": 0,\n",
        "  \"random_seed\": None,\n",
        "  \"temperature\": 0,\n",
        "  \"repetition_penalty\": 1.0,\n",
        "  \"stopping_criteria\": \"length (256 tokens)\",\n",
        "  \"stopping_sequence\": None\n",
        "}\n",
        "\n",
        "llm = Replicate(\n",
        "    model=\"ibm-granite/granite-3.3-8b-instruct\",\n",
        "    model_kwargs=parameters\n",
        ")"
      ],
      "metadata": {
        "id": "7IPYXlk4i25X"
      },
      "execution_count": 15,
      "outputs": []
    },
    {
      "cell_type": "code",
      "source": [
        "import requests\n",
        "from bs4 import BeautifulSoup\n",
        "import re\n",
        "\n",
        "def hapus_spasi_lebih(text):\n",
        "    if not isinstance(text, str) or not text.strip():\n",
        "        return \"\"\n",
        "\n",
        "    return re.sub(r'\\s+', ' ', text).strip()\n",
        "\n",
        "def extract_berita_detik(soup):\n",
        "    container = soup.find(id=\"detikdetailtext\")\n",
        "    if not container:\n",
        "        return \"\"\n",
        "\n",
        "    paragraphs = container.find_all('p')\n",
        "    combined = \" \".join(p.get_text(strip=True) for p in paragraphs)\n",
        "    return hapus_spasi_lebih(combined)\n",
        "\n",
        "def ambil_data(url):\n",
        "  response = requests.get(url)\n",
        "  if response.status_code == 200:\n",
        "    soup = BeautifulSoup(response.text, 'html.parser')\n",
        "\n",
        "    judul = hapus_spasi_lebih(soup.find('h1').text)\n",
        "    konten = extract_berita_detik(soup)\n",
        "    return f\"\"\"\n",
        "    Judul berita: {judul}\n",
        "\n",
        "    Konten Berita: {konten}\n",
        "    \"\"\"\n",
        "  else:\n",
        "    return \"Url Berita Tidak Valid\""
      ],
      "metadata": {
        "id": "WQGdJt0BhQlY"
      },
      "execution_count": 5,
      "outputs": []
    },
    {
      "cell_type": "code",
      "source": [
        "url = \"https://www.detik.com/edu/sekolah/d-7959673/4-temuan-kemendikdasmen-di-spmb-2025-jual-beli-kursi-pemalsuan-dokumen\"\n",
        "berita = ambil_data(url)\n",
        "\n",
        "prompt = f\"\"\"\n",
        "Kamu adalah asisten analisis berita.\n",
        "Tugasmu adalah menganalisis dan meringkas satu berita online dalam bahasa Indonesia, dengan hasil akhir yang rapi, jelas, dan mudah dipahami oleh masyarakat umum.\n",
        "Fokuskan pada semua poin penting yang disebutkan dalam berita, terutama bila berita menyebutkan daftar temuan, indikasi, atau poin-poin utama.\n",
        "\n",
        "Lakukan dua hal:\n",
        "1. Klasifikasikan berita berdasarkan elemen berikut:\n",
        "- Kategori Utama: (Politik, Ekonomi, Hukum, Sosial, Pendidikan, Olahraga, Kesehatan, Teknologi, Lingkungan, Bencana, Hiburan, dll.)\n",
        "- Tokoh Utama (jika ada): (misalnya: Ahmad, Sukron)\n",
        "- Lokasi Kejadian (jika ada): (misalnya: Jakarta, Papua)\n",
        "- Waktu Kejadian: (misalnya: 20 Juli 2025)\n",
        "- Sentimen berita: (Positif / Negatif / Netral)\n",
        "- Isu Khusus (jika relevan): (misalnya: Korupsi, Pendidikan anak, Lingkungan hidup, dll.)\n",
        "- Keaslian berita: (misalnya: Hoaks, Fakta, jika hoaks berikan alasannya)\n",
        "\n",
        "2. Ringkasan (maksimal 3 - 7 kalimat)\n",
        "- Buat ringkasan yang sederhana, tidak teknis, dan bisa dipahami masyarakat awam.\n",
        "- Sebutkan apa yang terjadi dan siapa yang terlibat.\n",
        "- Jika berita menyebutkan beberapa temuan atau daftar poin, sebutkan semua poin tersebut secara singkat.\n",
        "- Jangan hanya menulis ulang lead berita — benar-benar ambil inti isinya.\n",
        "- Jangan lebih dari 7 kalimat.\n",
        "\n",
        "Berikut beritanya\n",
        "{berita}\n",
        "\"\"\"\n",
        "\n",
        "output = llm.invoke(prompt)\n",
        "\n",
        "print(output)"
      ],
      "metadata": {
        "colab": {
          "base_uri": "https://localhost:8080/"
        },
        "id": "T-VFHQUViwji",
        "outputId": "a280e72c-262c-4c71-9f74-fe498c085bcb"
      },
      "execution_count": 29,
      "outputs": [
        {
          "output_type": "stream",
          "name": "stdout",
          "text": [
            "1. Klasifikasi berita:\n",
            "- Kategori Utama: Politik (karena terkait dengan instansi pemerintah dan proses pemilihan)\n",
            "- Tokoh Utama: Kemendikbud, SPMB (Badan Pemilihan Bantuan dan Pendidikan)\n",
            "- Lokasi Kejadian: Netral (tidak menyebutkan lokasi spesifik)\n",
            "- Waktu Kejadian: 20 Juli 2025 (walaupun tidak jelas apakah ini waktu publikasi berita atau waktu kejadian)\n",
            "- Sentimen berita: Negatif (karena berita mengungkap kasus pemalsuan dokumen)\n",
            "- Isu Khusus: Korupsi, keberlanjutan proses pemilihan\n",
            "- Keaslian berita: Fakta (tidak ada alasan menunjukkan hoaks)\n",
            "\n",
            "2. Ringkasan:\n",
            "Kemendikbud, badan pemerintah yang bertanggung jawab untuk pendidikan, terdakwa melakukan pemalsuan dokumen selama proses pemilihan SPMB 2025. Berita menyebutkan empat (4) temuan yang menunjukkan kasus pemalsuan, salah identitas, dan penipuan. Ini menciptakan sentimen negatif karena menunjukkan potensi korupsi dalam proses pemilihan dan menyebabkan kebimbangan tentang keberlanjutan proses tersebut. Berita juga menyebutkan beberapa poin utama, seperti nama-nama individu yang terlibat dan tindakan yang diambil oleh Kemendikbud setelah penemuan tersebut.\n"
          ]
        }
      ]
    }
  ]
}